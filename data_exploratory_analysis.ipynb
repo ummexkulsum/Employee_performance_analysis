{
 "cells": [
  {
   "cell_type": "markdown",
   "id": "7ccce3c8",
   "metadata": {},
   "source": [
    "## DATA SCIENCE PROJECT ON  INX FUTURE INC EMPLOYEE PERFORMANCE ANALYSIS\n",
    "\n",
    "\n",
    "\n",
    "## BUISNESS CASE: BASED ON GIVEN FEATURE OF DATASET WE NEED TO PREDICT THE PERFOMANCE RATING OF EMPLOYEE\n"
   ]
  },
  {
   "cell_type": "markdown",
   "id": "54c3393e",
   "metadata": {},
   "source": [
    "#### IMPORTING NECESSARY LIBRARY:"
   ]
  },
  {
   "cell_type": "code",
   "execution_count": 1,
   "id": "858156c5",
   "metadata": {},
   "outputs": [],
   "source": [
    "import pandas as pd\n",
    "import numpy as np\n",
    "import matplotlib.pyplot as plt\n",
    "%matplotlib inline\n",
    "import seaborn as sns\n",
    "from scipy import stats\n",
    "import warnings # Used to supressed the warnings\n",
    "warnings.filterwarnings('ignore')"
   ]
  },
  {
   "cell_type": "markdown",
   "id": "dcbeb0aa",
   "metadata": {},
   "source": [
    "#### LOAD DATA FOR EXPLOTARY DATA ANALYSIS"
   ]
  },
  {
   "cell_type": "code",
   "execution_count": 2,
   "id": "f4dab560",
   "metadata": {},
   "outputs": [],
   "source": [
    "data = pd.read_excel('Emplyoee_performance .xls')\n"
   ]
  },
  {
   "cell_type": "markdown",
   "id": "f9c09df9",
   "metadata": {},
   "source": [
    "#### BASIC CHECKS OF DATA"
   ]
  },
  {
   "cell_type": "code",
   "execution_count": null,
   "id": "9c409101",
   "metadata": {},
   "outputs": [],
   "source": [
    "data.head()"
   ]
  },
  {
   "cell_type": "code",
   "execution_count": null,
   "id": "788c9257",
   "metadata": {},
   "outputs": [],
   "source": [
    "data.tail()"
   ]
  },
  {
   "cell_type": "code",
   "execution_count": null,
   "id": "7d05c2fd",
   "metadata": {},
   "outputs": [],
   "source": [
    "data.columns"
   ]
  },
  {
   "cell_type": "code",
   "execution_count": null,
   "id": "be640a1a",
   "metadata": {},
   "outputs": [],
   "source": [
    "data.shape"
   ]
  },
  {
   "cell_type": "markdown",
   "id": "0fc776e7",
   "metadata": {},
   "source": [
    "* Dataset contain total 28 features with 1 unique feature and 1200 observation."
   ]
  },
  {
   "cell_type": "markdown",
   "id": "495887c8",
   "metadata": {},
   "source": [
    "### EXAMINE THE DATA"
   ]
  },
  {
   "cell_type": "code",
   "execution_count": null,
   "id": "80721e43",
   "metadata": {},
   "outputs": [],
   "source": [
    "data.info()"
   ]
  },
  {
   "cell_type": "markdown",
   "id": "8911111c",
   "metadata": {},
   "source": [
    "* In this data two type of data is available [int64, object]"
   ]
  },
  {
   "cell_type": "markdown",
   "id": "cfa3f04b",
   "metadata": {},
   "source": [
    "### STATISTICAL MEASURE OF DATA"
   ]
  },
  {
   "cell_type": "code",
   "execution_count": null,
   "id": "8a8a7fab",
   "metadata": {},
   "outputs": [],
   "source": [
    "data.describe()"
   ]
  },
  {
   "cell_type": "markdown",
   "id": "7de07da0",
   "metadata": {},
   "source": [
    "* In numerical features no constant column is present."
   ]
  },
  {
   "cell_type": "code",
   "execution_count": null,
   "id": "857cfd4e",
   "metadata": {},
   "outputs": [],
   "source": [
    "data.describe(include=\"O\")"
   ]
  },
  {
   "cell_type": "markdown",
   "id": "6c368f56",
   "metadata": {},
   "source": [
    "* In categorical data also no constant column is present."
   ]
  },
  {
   "cell_type": "markdown",
   "id": "2decfc03",
   "metadata": {},
   "source": [
    "### DEPARTMENT WISE PERFORMANCE RATING"
   ]
  },
  {
   "cell_type": "markdown",
   "id": "80c5f7c2",
   "metadata": {},
   "source": [
    "**PLOT USED**\n",
    "* Violinplot:  It shows the distribution of quantitative data across several levels of one (or more) categorical variables such that those distributions can be compared.\n",
    "* CountPlot: countplot is used to Show the counts of observations in each categorical bin using bars."
   ]
  },
  {
   "cell_type": "code",
   "execution_count": null,
   "id": "4333f147",
   "metadata": {},
   "outputs": [],
   "source": [
    "plt.figure(figsize=(20,10),facecolor='white')\n",
    "sns.violinplot(x='EmpDepartment',y='PerformanceRating',hue=data.Gender,data=data,palette='rocket')\n",
    "plt.xlabel('EmpDepartment',fontsize=20)\n",
    "plt.ylabel('PerformanceRating',fontsize=15)\n",
    "plt.show()"
   ]
  },
  {
   "cell_type": "code",
   "execution_count": null,
   "id": "1de389ff",
   "metadata": {},
   "outputs": [],
   "source": [
    "plt.figure(figsize=(20,10),facecolor='white')\n",
    "ax = sns.countplot(x='EmpDepartment',hue=data.PerformanceRating,data=data)\n",
    "for i in ax.patches:\n",
    "    ax.annotate('{:.0f}'.format(i.get_height()), (i.get_x()+0.06, i.get_height()+2))\n",
    "plt.title('Employee Departments vs PerformanceRating',fontsize=20)\n",
    "plt.xlabel('EmpDepartment',fontsize=20)\n",
    "plt.ylabel('PerformanceRating',fontsize=15)\n",
    "plt.show()\n"
   ]
  },
  {
   "cell_type": "markdown",
   "id": "d9495640",
   "metadata": {},
   "source": [
    "**Observation:**\n",
    "\n",
    "**From the above graph we can conclude that from the EmpDepartment Development department is showing High performance rating**\n",
    "\n",
    "**Sales:** The Performace rating level 3 is more in the sales department. The male performance rating the little bit higher compared to female.\n",
    "\n",
    "**Human Resources:** The majority of the employees lying under the level 3 performance . The older people are performing low in this department. The female employees in HR department doing really well in their performance.\n",
    "\n",
    "**Development:** The maximum number of employees are level 3 performers. Employees of all age are performing at the level of 3 only. The gender-based performance is nearly same for both.\n",
    "\n",
    "**Data Science:** The highest average of level 3 performance is in data science department. Data science is the only department where less number of level 2 performers. The overall performance is higher compared to all departments. Male employees are doing good in this department.\n",
    "\n",
    "**Research & Development:** The age factor is not deviating from the level of performance here where different employees with different age are there in every level of performance. The R&D has the good female employees in their performance.\n",
    "\n",
    "**Finance:** The finance department performance is exponentially decreasing when age increases. The male employees are doing good. The experience factor is inversely relating to the performance level."
   ]
  },
  {
   "cell_type": "markdown",
   "id": "7f6a9dd5",
   "metadata": {},
   "source": [
    "#### PERCENT COUNT IN EMPLOYEE DEPARTMENT WITH PERFORMANCE RATING"
   ]
  },
  {
   "cell_type": "code",
   "execution_count": null,
   "id": "088b0328",
   "metadata": {},
   "outputs": [],
   "source": [
    "percent = pd.crosstab(data[\"PerformanceRating\"], data[\"EmpDepartment\"], margins=True,normalize=True)\n",
    "round(percent.multiply(100),2)"
   ]
  },
  {
   "cell_type": "markdown",
   "id": "da59fd8b",
   "metadata": {},
   "source": [
    "### TOP 3 FACTOR AFFECTING TO THE EMPLOYEE PERFORMANCE"
   ]
  },
  {
   "cell_type": "markdown",
   "id": "e536979a",
   "metadata": {},
   "source": [
    "**From visualisation file we get the top 3 factor affecting to the employee performance**\n",
    "1. Emp Environment Satisfaction\n",
    "2. Emp Last Salary Hike Percent\n",
    "3. Emp Work Life Balance"
   ]
  },
  {
   "cell_type": "code",
   "execution_count": null,
   "id": "492e6f9f",
   "metadata": {},
   "outputs": [],
   "source": [
    "# 1.Employee enviorment Satisfaction\n",
    "import matplotlib.pyplot as plt\n",
    "plt.figure(figsize=(20,10))\n",
    "plt.title(\"preformance rating in Employee Environment Satisfaction\",fontsize=18)\n",
    "plt.pie([90,127,13,98,130,14,3,310,54,3,307,51], radius=1,\n",
    "        colors=[\"mediumaquamarine\",\"mediumseagreen\",\"seagreen\",\n",
    "                \"skyblue\",\"lightskyblue\",'lightblue',\n",
    "                'turquoise','turquoise','mediumturquoise',\n",
    "                'c','skyblue','c',\n",
    "               ],explode =[0.01,0.01,0.01,0.01,0.01,0.01,0.01,0.01,0.01,0.01,0.01,0.01],\n",
    "        labels=[2,3,4,2,3,4,2,3,4,2,3,4],rotatelabels=True,\n",
    "        pctdistance=0.82, textprops = {\"fontsize\":12,\"fontweight\":\"bold\"},startangle=92,\n",
    "        wedgeprops=dict(width=0.6, edgecolor='w',linewidth=3))\n",
    "\n",
    "plt.pie([230,242,367,361], radius=0.7,\n",
    "        colors=['lightseagreen','deepskyblue',\"darkturquoise\",\"c\"],\n",
    "        wedgeprops=dict(width=0.3, edgecolor='w',linewidth=2),textprops = {\"fontsize\":12,\"fontweight\":\"bold\"},\n",
    "        autopct='%.1f%%',\n",
    "        labels=[1,2,3,4],\n",
    "        pctdistance=0.70, labeldistance=0.4, rotatelabels=True,startangle=92)\n",
    "plt.show()\n"
   ]
  },
  {
   "cell_type": "code",
   "execution_count": null,
   "id": "db83667f",
   "metadata": {},
   "outputs": [],
   "source": [
    "# 2.Employee last salary hike percent\n",
    "pd.crosstab(data['EmpLastSalaryHikePercent'],data['PerformanceRating'],margins=True)"
   ]
  },
  {
   "cell_type": "code",
   "execution_count": null,
   "id": "6d5ddfb3",
   "metadata": {},
   "outputs": [],
   "source": [
    "# 3.Employee Work life balance\n",
    "pd.crosstab(data['EmpWorkLifeBalance'],data['PerformanceRating'],margins=True)"
   ]
  },
  {
   "cell_type": "markdown",
   "id": "90334e73",
   "metadata": {},
   "source": [
    "**Observation:**\n",
    "\n",
    "**1.Employee Enviroment satisfaction:** \n",
    "* Maximum Number of Employees Performance Rating belongs to EmpEnvironmentSatisfaction Level 3 & Level 4, It contains 367 & 361.\n",
    "\n",
    "**2.Employee last salary hike percent:** \n",
    "* More Number of Employees whose salary hike percentage belongs to 11-19 % are getting 2 & 3 performance rating Maximum time.\n",
    "* Employees whose salary hike percentage is in between 20-22%, There performance rating is 4\n",
    "\n",
    "**3.Employee work life balance:** \n",
    "* In EmpWorkLifeBalance, level 3 is showing high Performance Rating of employees\n"
   ]
  },
  {
   "cell_type": "markdown",
   "id": "68f9787e",
   "metadata": {},
   "source": [
    "#### CHECK THE SKEWNESS \n",
    "**Skewness:**Skewness is a measure of the asymmetry of a distribution. A distribution is asymmetrical when its left and right side are not mirror images. A distribution can have right (or positive), left (or negative), or zero skewness\n",
    "\n"
   ]
  },
  {
   "cell_type": "code",
   "execution_count": null,
   "id": "cf50f483",
   "metadata": {},
   "outputs": [],
   "source": [
    "print('1.Distance From Home Feature Skewness:',data.DistanceFromHome.skew())\n",
    "print('2.Employee Hourly Rate Feature Skewness:',data.EmpHourlyRate.skew())\n",
    "print('3.Employee Last Salary Hike Percent Feature Skewness:',data.EmpLastSalaryHikePercent.skew())\n",
    "print('4.Total Work Experiance In Year Feature Skewness:',data.TotalWorkExperienceInYears.skew())\n",
    "print('5.Experiance Year At This Company Feature Skewness:',data.ExperienceYearsAtThisCompany.skew())\n",
    "print('6.Experiance Year In Current Role Feature Skewness:',data.ExperienceYearsInCurrentRole.skew())\n",
    "print('7.Year Since Last Promotion Feature Skewness:',data.YearsSinceLastPromotion.skew())\n",
    "print('8.Years With Current Manager Feature Skewness:',data.YearsWithCurrManager.skew())\n"
   ]
  },
  {
   "cell_type": "markdown",
   "id": "3ec7883a",
   "metadata": {},
   "source": [
    "* From above all Feature skewness only one feature Year Since Last Promotion have skew so we need to do feature transformation in data preprocessing"
   ]
  },
  {
   "cell_type": "markdown",
   "id": "eb53ae9e",
   "metadata": {},
   "source": [
    "####  CHECK THE KURTOSIS\n",
    "\n",
    "**Kurtosis:**  kurtosis is a measure of the \"tailedness\" of the probability distribution of a real-valued random variable."
   ]
  },
  {
   "cell_type": "code",
   "execution_count": null,
   "id": "6d86cc37",
   "metadata": {},
   "outputs": [],
   "source": [
    "print('1.Distance From Home Feature kurtosis:',data.DistanceFromHome.kurtosis())\n",
    "print('2.Employee Hourly Rate Feature kurtosis:',data.EmpHourlyRate.kurtosis())\n",
    "print('3.Employee Last Salary Hike Percent Feature kurtosis:',data.EmpLastSalaryHikePercent.kurtosis())\n",
    "print('4.Total Work Experiance In Year Feature kurtosis:',data.TotalWorkExperienceInYears.kurtosis())\n",
    "print('5.Experiance Year At This Company Feature kurtosis:',data.ExperienceYearsAtThisCompany.kurtosis())\n",
    "print('6.Experiance Year In Current Role Feature kurtosis:',data.ExperienceYearsInCurrentRole.kurtosis())\n",
    "print('7.Year Since Last Promotion Feature kurtosis:',data.YearsSinceLastPromotion.kurtosis())\n",
    "print('8.Years With Current Manager Feature kurtosis:',data.YearsWithCurrManager.kurtosis())\n"
   ]
  },
  {
   "cell_type": "markdown",
   "id": "0288376b",
   "metadata": {},
   "source": [
    "* From above all Feature kurtosis only high in two features experiance year at this company & Year Since Last Promotion have kutosis so we need to do feature transformation in data preprocessing"
   ]
  },
  {
   "cell_type": "markdown",
   "id": "4a8fc661",
   "metadata": {},
   "source": [
    "### DISTRIBUTION OF MEAN OF DATA"
   ]
  },
  {
   "cell_type": "code",
   "execution_count": null,
   "id": "fe931e7e",
   "metadata": {},
   "outputs": [],
   "source": [
    "plt.figure(figsize=(16,6))\n",
    "sns.set_style('whitegrid')\n",
    "features = data.columns.values[0:27]\n",
    "plt.title('Distribution of mean per row in the data',fontsize=20)\n",
    "plt.xlabel('Mean value',fontsize=20)\n",
    "plt.ylabel('PDF value',fontsize=15)\n",
    "sns.distplot(data[features].mean(axis=1),color='ORANGE', kde=True)\n",
    "plt.show()"
   ]
  },
  {
   "cell_type": "markdown",
   "id": "ac3cd0b3",
   "metadata": {},
   "source": [
    "**Observation:**\n",
    "* From the above graph close to guassian distribution with mean value 9.5\n",
    "* From above graph we can say that around 80% feature mean lies between 8.5 to 10.5"
   ]
  },
  {
   "cell_type": "markdown",
   "id": "b776a519",
   "metadata": {},
   "source": [
    "### DISTRIBUTION OF STANDARD DEVIATION OF DATA"
   ]
  },
  {
   "cell_type": "code",
   "execution_count": null,
   "id": "2ac1a3bb",
   "metadata": {},
   "outputs": [],
   "source": [
    "plt.figure(figsize=(16,6))\n",
    "sns.set_style('whitegrid')\n",
    "features = data.columns.values[0:27]\n",
    "plt.title('Distribution of Standard Deviation per row in the data',fontsize=20)\n",
    "plt.xlabel('STD value',fontsize=20)\n",
    "plt.ylabel('PDF value',fontsize=15)\n",
    "sns.distplot(data[features].std(axis=1),color='ORANGE', kde=True)\n",
    "plt.show()"
   ]
  },
  {
   "cell_type": "markdown",
   "id": "6f925dc7",
   "metadata": {},
   "source": [
    "**Observation:** This graph also look like guassian distribution around 30% of feature standard deviation around the range of 3 3 to 20 and remaining 70% feature standard deviation in between 0 to 2"
   ]
  },
  {
   "cell_type": "code",
   "execution_count": null,
   "id": "0c75dfc8",
   "metadata": {},
   "outputs": [],
   "source": []
  }
 ],
 "metadata": {
  "kernelspec": {
   "display_name": "Python 3",
   "language": "python",
   "name": "python3"
  },
  "language_info": {
   "codemirror_mode": {
    "name": "ipython",
    "version": 3
   },
   "file_extension": ".py",
   "mimetype": "text/x-python",
   "name": "python",
   "nbconvert_exporter": "python",
   "pygments_lexer": "ipython3",
   "version": "3.9.5"
  }
 },
 "nbformat": 4,
 "nbformat_minor": 5
}
