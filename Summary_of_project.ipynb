{
 "cells": [
  {
   "cell_type": "markdown",
   "id": "cadca078",
   "metadata": {},
   "source": [
    "# PROJECT SUMMARY:\n",
    "## BUISNESSCASE & GOAL OF PROJECT: BASED ON GIVEN FEATURE OF DATASET WE NEED TO PREDICT THE PERFOMANCE RATING OF EMPLOYEE\n",
    "\n"
   ]
  },
  {
   "cell_type": "markdown",
   "id": "2fef7306",
   "metadata": {},
   "source": [
    "# Tools and Library Used:\n",
    "\n",
    "### Tools: \n",
    "* Jupyter\n",
    "\n",
    "### Library Used: \n",
    "* Pandas\n",
    "* Numpy\n",
    "* Matplotlib\n",
    "* Seaborn\n",
    "* pylab\n",
    "* Scipy\n",
    "* Sklearn\n",
    "* Pickle"
   ]
  },
  {
   "cell_type": "markdown",
   "id": "868abf38",
   "metadata": {},
   "source": [
    "# Goal 1: Department Wise Performances\n",
    "**PLOT USED**\n",
    "* Violinplot:  It shows the distribution of quantitative data across several levels of one (or more) categorical variables such that those distributions can be compared.\n",
    "* CountPlot: countplot is used to Show the counts of observations in each categorical bin using bars.\n",
    "\n",
    "\n",
    "\n",
    "**Sales:** The Performace rating level 3 is more in the sales department. The male performance rating the little bit higher compared to female.\n",
    "\n",
    "**Human Resources:** The majority of the employees lying under the level 3 performance . The older people are performing low in this department. The female employees in HR department doing really well in their performance.\n",
    "\n",
    "**Development:** The maximum number of employees are level 3 performers. Employees of all age are performing at the level of 3 only. The gender-based performance is nearly same for both.\n",
    "\n",
    "**Data Science:** The highest average of level 3 performance is in data science department. Data science is the only department where less number of level 2 performers. The overall performance is higher compared to all departments. Male employees are doing good in this department.\n",
    "\n",
    "**Research & Development:** The age factor is not deviating from the level of performance here where different employees with different age are there in every level of performance. The R&D has the good female employees in their performance.\n",
    "\n",
    "**Finance:** The finance department performance is exponentially decreasing when age increases. The male employees are doing good. The experience factor is inversely relating to the performance level."
   ]
  },
  {
   "cell_type": "markdown",
   "id": "e7d7e250",
   "metadata": {},
   "source": [
    "# Goal 2: Top 3 Important Factors effecting employee performance\n",
    "The top three important features affecting the performance rating are ordered with their importance level as follows,\n",
    "1. Employment Environment Satisfaction\n",
    "2. Employee Salary Hike Percentage\n",
    "3. Experience Years In CurrentRole\n",
    " \n",
    "**Employee Enviroment satisfaction:** Maximum Number of Employees Performance Rating belongs to EmpEnvironmentSatisfaction Level 3 & Level 4, It contains 367 & 361.\n",
    "\n",
    "**Employee last salary hike percent:** More Number of Employees whose salary hike percentage belongs to 11-19 % are getting 2 & 3 performance rating Maximum time. as well asEmployees whose salary hike percentage is in between 20-22%, There performance rating is 4.\n",
    "\n",
    "**Employee work life balance:** In EmpWorkLifeBalance, level 3 is showing high Performance Rating of employees\n"
   ]
  },
  {
   "cell_type": "markdown",
   "id": "81c1f16c",
   "metadata": {},
   "source": [
    "# Goal 3: A Trained model which can predict the employee performance\n",
    "The trained model is created using the machine learning algorithm as follows with the accuracy score,\n",
    "\n",
    "1. Support Vector Classifier: 0.99 accuracy\n",
    "2. Random Forest classifier: 0.96 accuracy\n",
    "3. Artifical Neural Network [Multilayer percepton]: 0.97 accuracy"
   ]
  },
  {
   "cell_type": "markdown",
   "id": "57c36b01",
   "metadata": {},
   "source": [
    "# Goal 4: Recommendations to improve the employee performance\n",
    "\n",
    "\n",
    "**1)Achieving Overall Employee Performance:** Enhancing employee environment satisfaction is key to improving overall employee performance.The company should prioritize efforts to enhance employee satisfaction in the workplace.\n",
    "\n",
    "**2)Boosting Motivation with Salary Increases:** Offering salary hikes can act as a powerful motivator for employees, driving improved performance.\n",
    "\n",
    "**3)Regular Promotions:** Consider implementing a policy of promoting employees every six months to both motivate and retain talent.\n",
    "\n",
    "**4)Work-Life Balance Impact:** The quality of an employee's work-life balance significantly influences their performance rating.\n",
    "Suggest improvements in this area to enhance overall performance.\n",
    "\n",
    "**5)Gender Consideration in HR Recruitment:** When recruiting for HR positions, it's advisable to consider female candidates, who may demonstrate strong performance compared to male candidates.\n",
    "\n",
    "**6)Identifying High-Performing Departments:** Recognize that certain departments, notably development and sales, consistently achieve high performance.Some employees, despite reporting lower job and relationship satisfaction, consistently deliver excellent performance.It's important to focus on understanding and supporting these high-performing employees to maximize their potential."
   ]
  },
  {
   "cell_type": "code",
   "execution_count": null,
   "id": "565721b2",
   "metadata": {},
   "outputs": [],
   "source": []
  }
 ],
 "metadata": {
  "kernelspec": {
   "display_name": "Python 3",
   "language": "python",
   "name": "python3"
  },
  "language_info": {
   "codemirror_mode": {
    "name": "ipython",
    "version": 3
   },
   "file_extension": ".py",
   "mimetype": "text/x-python",
   "name": "python",
   "nbconvert_exporter": "python",
   "pygments_lexer": "ipython3",
   "version": "3.9.5"
  }
 },
 "nbformat": 4,
 "nbformat_minor": 5
}
