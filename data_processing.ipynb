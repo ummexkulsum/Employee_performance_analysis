{
 "cells": [
  {
   "cell_type": "markdown",
   "id": "ce9e2c03",
   "metadata": {},
   "source": [
    "## DATA SCIENCE PROJECT ON  INX FUTURE INC EMPLOYEE PERFORMANCE ANALYSIS\n",
    "\n",
    "\n",
    "\n",
    "## BUISNESS CASE: BASED ON GIVEN FEATURE OF DATASET WE NEED TO PREDICT THE PERFOMANCE RATING OF EMPLOYEE\n"
   ]
  },
  {
   "cell_type": "markdown",
   "id": "c3868d25",
   "metadata": {},
   "source": [
    "#### IMPORT NECESSARY LIBRARY"
   ]
  },
  {
   "cell_type": "code",
   "execution_count": 1,
   "id": "16a8a24b",
   "metadata": {},
   "outputs": [],
   "source": [
    "import pandas as pd\n",
    "import numpy as np\n",
    "import matplotlib.pyplot as plt\n",
    "%matplotlib inline\n",
    "import seaborn as sns\n",
    "from scipy import stats\n",
    "import pylab\n",
    "import warnings # Used to supressed the warnings\n",
    "warnings.filterwarnings('ignore')"
   ]
  },
  {
   "cell_type": "markdown",
   "id": "0fab4af3",
   "metadata": {},
   "source": [
    "#### LOAD DATA FOR EXPLOTARY DATA ANALYSIS"
   ]
  },
  {
   "cell_type": "code",
   "execution_count": 2,
   "id": "433321f4",
   "metadata": {},
   "outputs": [],
   "source": [
    "data = pd.read_excel('Emplyoee_performance .xls')\n"
   ]
  },
  {
   "cell_type": "markdown",
   "id": "bb152ef7",
   "metadata": {},
   "source": [
    "### CHECK MISSING VALUE:"
   ]
  },
  {
   "cell_type": "code",
   "execution_count": 3,
   "id": "7e47f44f",
   "metadata": {},
   "outputs": [
    {
     "data": {
      "text/plain": [
       "EmpNumber                       0\n",
       "Age                             0\n",
       "Gender                          0\n",
       "EducationBackground             0\n",
       "MaritalStatus                   0\n",
       "EmpDepartment                   0\n",
       "EmpJobRole                      0\n",
       "BusinessTravelFrequency         0\n",
       "DistanceFromHome                0\n",
       "EmpEducationLevel               0\n",
       "EmpEnvironmentSatisfaction      0\n",
       "EmpHourlyRate                   0\n",
       "EmpJobInvolvement               0\n",
       "EmpJobLevel                     0\n",
       "EmpJobSatisfaction              0\n",
       "NumCompaniesWorked              0\n",
       "OverTime                        0\n",
       "EmpLastSalaryHikePercent        0\n",
       "EmpRelationshipSatisfaction     0\n",
       "TotalWorkExperienceInYears      0\n",
       "TrainingTimesLastYear           0\n",
       "EmpWorkLifeBalance              0\n",
       "ExperienceYearsAtThisCompany    0\n",
       "ExperienceYearsInCurrentRole    0\n",
       "YearsSinceLastPromotion         0\n",
       "YearsWithCurrManager            0\n",
       "Attrition                       0\n",
       "PerformanceRating               0\n",
       "dtype: int64"
      ]
     },
     "execution_count": 3,
     "metadata": {},
     "output_type": "execute_result"
    }
   ],
   "source": [
    "data.isnull().sum()"
   ]
  },
  {
   "cell_type": "markdown",
   "id": "9e839fb9",
   "metadata": {},
   "source": [
    "* Their is no missing value present in the data."
   ]
  },
  {
   "cell_type": "markdown",
   "id": "68132aa4",
   "metadata": {},
   "source": [
    "### CONVERT CATEGORICAL TO NUMERICAL"
   ]
  },
  {
   "cell_type": "code",
   "execution_count": 4,
   "id": "17799336",
   "metadata": {},
   "outputs": [
    {
     "data": {
      "text/plain": [
       "['EmpNumber',\n",
       " 'Gender',\n",
       " 'EducationBackground',\n",
       " 'MaritalStatus',\n",
       " 'EmpDepartment',\n",
       " 'EmpJobRole',\n",
       " 'BusinessTravelFrequency',\n",
       " 'OverTime',\n",
       " 'Attrition']"
      ]
     },
     "execution_count": 4,
     "metadata": {},
     "output_type": "execute_result"
    }
   ],
   "source": [
    "# Get all categorical feature list\n",
    "list(data.select_dtypes('object'))"
   ]
  },
  {
   "cell_type": "markdown",
   "id": "599189cd",
   "metadata": {},
   "source": [
    "**Technique Used:**\n",
    "\n",
    "**1.Mannual Encoding:** Mannual encoding is a best techinque to handel categorical feature with the help of map function, map the labels based on frequency.\n",
    "\n",
    "**2.Frequency Encoding:** Frequency encoding is an encoding technique to transform an original categorical variable to a numerical variable by considering the frequency distribution of the data getting value counts."
   ]
  },
  {
   "cell_type": "markdown",
   "id": "f406a256",
   "metadata": {},
   "source": [
    "#### 1.Gender: "
   ]
  },
  {
   "cell_type": "code",
   "execution_count": 5,
   "id": "fa5e336c",
   "metadata": {},
   "outputs": [
    {
     "data": {
      "text/plain": [
       "Male      725\n",
       "Female    475\n",
       "Name: Gender, dtype: int64"
      ]
     },
     "execution_count": 5,
     "metadata": {},
     "output_type": "execute_result"
    }
   ],
   "source": [
    "# Get value counts of gender\n",
    "data.Gender.value_counts()"
   ]
  },
  {
   "cell_type": "code",
   "execution_count": 6,
   "id": "89781b0b",
   "metadata": {},
   "outputs": [],
   "source": [
    "# Use mannual encoding to map the labels\n",
    "data.Gender = data.Gender.map({'Male':1,'Female':0})"
   ]
  },
  {
   "cell_type": "markdown",
   "id": "35f8c818",
   "metadata": {},
   "source": [
    "* Map male with 1 and female with 0 "
   ]
  },
  {
   "cell_type": "markdown",
   "id": "e7e5f1bd",
   "metadata": {},
   "source": [
    "#### 2.Education Background"
   ]
  },
  {
   "cell_type": "code",
   "execution_count": 7,
   "id": "ed30e962",
   "metadata": {},
   "outputs": [
    {
     "data": {
      "text/plain": [
       "Life Sciences       492\n",
       "Medical             384\n",
       "Marketing           137\n",
       "Technical Degree    100\n",
       "Other                66\n",
       "Human Resources      21\n",
       "Name: EducationBackground, dtype: int64"
      ]
     },
     "execution_count": 7,
     "metadata": {},
     "output_type": "execute_result"
    }
   ],
   "source": [
    "# Get value counts of Education Background\n",
    "data.EducationBackground.value_counts()"
   ]
  },
  {
   "cell_type": "code",
   "execution_count": 8,
   "id": "f0928c3a",
   "metadata": {},
   "outputs": [],
   "source": [
    "# Use frequency encoding\n",
    "data.loc[data['EducationBackground']=='Life Sciences','EducationBackground']=5\n",
    "data.loc[data['EducationBackground']=='Medical','EducationBackground']=4\n",
    "data.loc[data['EducationBackground']=='Marketing','EducationBackground']=3\n",
    "data.loc[data['EducationBackground']=='Technical Degree','EducationBackground']=2\n",
    "data.loc[data['EducationBackground']=='Other','EducationBackground']=1\n",
    "data.loc[data['EducationBackground']=='Human Resources','EducationBackground']=0"
   ]
  },
  {
   "cell_type": "code",
   "execution_count": 9,
   "id": "1e23df76",
   "metadata": {},
   "outputs": [
    {
     "data": {
      "text/plain": [
       "5    492\n",
       "4    384\n",
       "3    137\n",
       "2    100\n",
       "1     66\n",
       "0     21\n",
       "Name: EducationBackground, dtype: int64"
      ]
     },
     "execution_count": 9,
     "metadata": {},
     "output_type": "execute_result"
    }
   ],
   "source": [
    "# Checking conversion happen or not\n",
    "data.EducationBackground.value_counts()"
   ]
  },
  {
   "cell_type": "markdown",
   "id": "6c6125e3",
   "metadata": {},
   "source": [
    "#### 3.Marital Status"
   ]
  },
  {
   "cell_type": "code",
   "execution_count": 10,
   "id": "840dd1b0",
   "metadata": {},
   "outputs": [
    {
     "data": {
      "text/plain": [
       "Married     548\n",
       "Single      384\n",
       "Divorced    268\n",
       "Name: MaritalStatus, dtype: int64"
      ]
     },
     "execution_count": 10,
     "metadata": {},
     "output_type": "execute_result"
    }
   ],
   "source": [
    "# Get the value counts of marital status\n",
    "data.MaritalStatus.value_counts()"
   ]
  },
  {
   "cell_type": "code",
   "execution_count": 11,
   "id": "7fcae3d7",
   "metadata": {},
   "outputs": [],
   "source": [
    "# Use mannual encoding\n",
    "data.MaritalStatus = data.MaritalStatus.map({'Married':2,'Single':1,'Divorced':0})"
   ]
  },
  {
   "cell_type": "code",
   "execution_count": 12,
   "id": "e5a91f2f",
   "metadata": {},
   "outputs": [
    {
     "data": {
      "text/plain": [
       "2    548\n",
       "1    384\n",
       "0    268\n",
       "Name: MaritalStatus, dtype: int64"
      ]
     },
     "execution_count": 12,
     "metadata": {},
     "output_type": "execute_result"
    }
   ],
   "source": [
    "# Check conversion happen or not\n",
    "data.MaritalStatus.value_counts()"
   ]
  },
  {
   "cell_type": "markdown",
   "id": "65b02ec4",
   "metadata": {},
   "source": [
    "#### 4.Employee Department"
   ]
  },
  {
   "cell_type": "code",
   "execution_count": 13,
   "id": "169f4a5f",
   "metadata": {},
   "outputs": [
    {
     "data": {
      "text/plain": [
       "Sales                     373\n",
       "Development               361\n",
       "Research & Development    343\n",
       "Human Resources            54\n",
       "Finance                    49\n",
       "Data Science               20\n",
       "Name: EmpDepartment, dtype: int64"
      ]
     },
     "execution_count": 13,
     "metadata": {},
     "output_type": "execute_result"
    }
   ],
   "source": [
    "# Get the value counts of employee department \n",
    "data.EmpDepartment.value_counts()"
   ]
  },
  {
   "cell_type": "code",
   "execution_count": 14,
   "id": "23e6ca8d",
   "metadata": {},
   "outputs": [],
   "source": [
    "# Use Frequency encoding\n",
    "data.loc[data['EmpDepartment']=='Sales','EmpDepartment']=5\n",
    "data.loc[data['EmpDepartment']=='Development','EmpDepartment']=4\n",
    "data.loc[data['EmpDepartment']=='Research & Development','EmpDepartment']=3\n",
    "data.loc[data['EmpDepartment']=='Human Resources','EmpDepartment']=2\n",
    "data.loc[data['EmpDepartment']=='Finance','EmpDepartment']=1\n",
    "data.loc[data['EmpDepartment']=='Data Science','EmpDepartment']=0"
   ]
  },
  {
   "cell_type": "code",
   "execution_count": 15,
   "id": "ee1395fc",
   "metadata": {},
   "outputs": [
    {
     "data": {
      "text/plain": [
       "5    373\n",
       "4    361\n",
       "3    343\n",
       "2     54\n",
       "1     49\n",
       "0     20\n",
       "Name: EmpDepartment, dtype: int64"
      ]
     },
     "execution_count": 15,
     "metadata": {},
     "output_type": "execute_result"
    }
   ],
   "source": [
    "# Check conversion happen or not\n",
    "data.EmpDepartment.value_counts()"
   ]
  },
  {
   "cell_type": "markdown",
   "id": "8ff546ce",
   "metadata": {},
   "source": [
    "#### 5.Employee Job Role"
   ]
  },
  {
   "cell_type": "code",
   "execution_count": 16,
   "id": "2e4f00ea",
   "metadata": {},
   "outputs": [
    {
     "data": {
      "text/plain": [
       "Sales Executive              270\n",
       "Developer                    236\n",
       "Manager R&D                   94\n",
       "Research Scientist            77\n",
       "Sales Representative          69\n",
       "Laboratory Technician         64\n",
       "Senior Developer              52\n",
       "Manager                       51\n",
       "Finance Manager               49\n",
       "Human Resources               45\n",
       "Technical Lead                38\n",
       "Manufacturing Director        33\n",
       "Healthcare Representative     33\n",
       "Data Scientist                20\n",
       "Research Director             19\n",
       "Business Analyst              16\n",
       "Senior Manager R&D            15\n",
       "Delivery Manager              12\n",
       "Technical Architect            7\n",
       "Name: EmpJobRole, dtype: int64"
      ]
     },
     "execution_count": 16,
     "metadata": {},
     "output_type": "execute_result"
    }
   ],
   "source": [
    "# Getting the value counts of EmpJobRole\n",
    "data.EmpJobRole.value_counts()"
   ]
  },
  {
   "cell_type": "code",
   "execution_count": 17,
   "id": "f4838ca5",
   "metadata": {},
   "outputs": [],
   "source": [
    "# Use frequency encoding because feature contain a lots of label\n",
    "data.loc[data['EmpJobRole']=='Sales Executive','EmpJobRole']=18\n",
    "data.loc[data['EmpJobRole']=='Developer','EmpJobRole']=17\n",
    "data.loc[data['EmpJobRole']=='Manager R&D','EmpJobRole']=16\n",
    "data.loc[data['EmpJobRole']=='Research Scientist','EmpJobRole']=15\n",
    "data.loc[data['EmpJobRole']=='Sales Representative','EmpJobRole']=14\n",
    "data.loc[data['EmpJobRole']=='Laboratory Technician','EmpJobRole']=13\n",
    "data.loc[data['EmpJobRole']=='Senior Developer','EmpJobRole']=12\n",
    "data.loc[data['EmpJobRole']=='Manager','EmpJobRole']=11\n",
    "data.loc[data['EmpJobRole']=='Finance Manager','EmpJobRole']=10\n",
    "data.loc[data['EmpJobRole']=='Human Resources','EmpJobRole']=9\n",
    "data.loc[data['EmpJobRole']=='Technical Lead','EmpJobRole']=8\n",
    "data.loc[data['EmpJobRole']=='Manufacturing Director','EmpJobRole']=7\n",
    "data.loc[data['EmpJobRole']=='Healthcare Representative','EmpJobRole']=6\n",
    "data.loc[data['EmpJobRole']=='Data Scientist','EmpJobRole']=5\n",
    "data.loc[data['EmpJobRole']=='Research Director','EmpJobRole']=4\n",
    "data.loc[data['EmpJobRole']=='Business Analyst','EmpJobRole']=3\n",
    "data.loc[data['EmpJobRole']=='Senior Manager R&D','EmpJobRole']=2\n",
    "data.loc[data['EmpJobRole']=='Delivery Manager','EmpJobRole']=1\n",
    "data.loc[data['EmpJobRole']=='Technical Architect','EmpJobRole']=0"
   ]
  },
  {
   "cell_type": "code",
   "execution_count": 18,
   "id": "7a245487",
   "metadata": {},
   "outputs": [
    {
     "data": {
      "text/plain": [
       "18    270\n",
       "17    236\n",
       "16     94\n",
       "15     77\n",
       "14     69\n",
       "13     64\n",
       "12     52\n",
       "11     51\n",
       "10     49\n",
       "9      45\n",
       "8      38\n",
       "7      33\n",
       "6      33\n",
       "5      20\n",
       "4      19\n",
       "3      16\n",
       "2      15\n",
       "1      12\n",
       "0       7\n",
       "Name: EmpJobRole, dtype: int64"
      ]
     },
     "execution_count": 18,
     "metadata": {},
     "output_type": "execute_result"
    }
   ],
   "source": [
    "# Check conversion happen or not\n",
    "data.EmpJobRole.value_counts()"
   ]
  },
  {
   "cell_type": "markdown",
   "id": "f52ae898",
   "metadata": {},
   "source": [
    "#### 6.Business Travel Frequency:"
   ]
  },
  {
   "cell_type": "code",
   "execution_count": 19,
   "id": "9bcf1232",
   "metadata": {},
   "outputs": [
    {
     "data": {
      "text/plain": [
       "Travel_Rarely        846\n",
       "Travel_Frequently    222\n",
       "Non-Travel           132\n",
       "Name: BusinessTravelFrequency, dtype: int64"
      ]
     },
     "execution_count": 19,
     "metadata": {},
     "output_type": "execute_result"
    }
   ],
   "source": [
    "# Get the value count of buisness travel frequency\n",
    "data.BusinessTravelFrequency.value_counts()"
   ]
  },
  {
   "cell_type": "code",
   "execution_count": 20,
   "id": "7c8391d8",
   "metadata": {},
   "outputs": [],
   "source": [
    "# Use mannual encoding Because feature contain minimum label\n",
    "data.BusinessTravelFrequency = data.BusinessTravelFrequency.map({'Travel_Rarely':2,'Travel_Frequently':1,'Non-Travel':0})"
   ]
  },
  {
   "cell_type": "code",
   "execution_count": 21,
   "id": "04362092",
   "metadata": {},
   "outputs": [
    {
     "data": {
      "text/plain": [
       "2    846\n",
       "1    222\n",
       "0    132\n",
       "Name: BusinessTravelFrequency, dtype: int64"
      ]
     },
     "execution_count": 21,
     "metadata": {},
     "output_type": "execute_result"
    }
   ],
   "source": [
    "# Check conversion happen or not\n",
    "data.BusinessTravelFrequency.value_counts()"
   ]
  },
  {
   "cell_type": "markdown",
   "id": "900e1e0e",
   "metadata": {},
   "source": [
    "#### 7.Overtime:"
   ]
  },
  {
   "cell_type": "code",
   "execution_count": 22,
   "id": "b051a30b",
   "metadata": {},
   "outputs": [
    {
     "data": {
      "text/plain": [
       "No     847\n",
       "Yes    353\n",
       "Name: OverTime, dtype: int64"
      ]
     },
     "execution_count": 22,
     "metadata": {},
     "output_type": "execute_result"
    }
   ],
   "source": [
    "# Get the value count of Overtime\n",
    "data.OverTime.value_counts()"
   ]
  },
  {
   "cell_type": "code",
   "execution_count": 23,
   "id": "6c17b6d4",
   "metadata": {},
   "outputs": [],
   "source": [
    "# Use mannual Encoding\n",
    "data.OverTime = data.OverTime.map({'No':1,'Yes':0})"
   ]
  },
  {
   "cell_type": "code",
   "execution_count": 24,
   "id": "d22740c6",
   "metadata": {},
   "outputs": [
    {
     "data": {
      "text/plain": [
       "1    847\n",
       "0    353\n",
       "Name: OverTime, dtype: int64"
      ]
     },
     "execution_count": 24,
     "metadata": {},
     "output_type": "execute_result"
    }
   ],
   "source": [
    "# Check conversion happen or not\n",
    "data.OverTime.value_counts()"
   ]
  },
  {
   "cell_type": "markdown",
   "id": "c4133dfe",
   "metadata": {},
   "source": [
    "#### 8.Attrition"
   ]
  },
  {
   "cell_type": "code",
   "execution_count": 25,
   "id": "006acddd",
   "metadata": {},
   "outputs": [
    {
     "data": {
      "text/plain": [
       "No     1022\n",
       "Yes     178\n",
       "Name: Attrition, dtype: int64"
      ]
     },
     "execution_count": 25,
     "metadata": {},
     "output_type": "execute_result"
    }
   ],
   "source": [
    "# Get the value counts of Attrition\n",
    "data.Attrition.value_counts()"
   ]
  },
  {
   "cell_type": "code",
   "execution_count": 26,
   "id": "67178d9a",
   "metadata": {},
   "outputs": [],
   "source": [
    "# Use Mannual encoding because feature contain less no of label\n",
    "data.Attrition = data.Attrition.map({'No':1,'Yes':0})"
   ]
  },
  {
   "cell_type": "code",
   "execution_count": 27,
   "id": "b1db8e5d",
   "metadata": {},
   "outputs": [
    {
     "data": {
      "text/plain": [
       "1    1022\n",
       "0     178\n",
       "Name: Attrition, dtype: int64"
      ]
     },
     "execution_count": 27,
     "metadata": {},
     "output_type": "execute_result"
    }
   ],
   "source": [
    "# Check conversion happen or not\n",
    "data.Attrition.value_counts()"
   ]
  },
  {
   "cell_type": "code",
   "execution_count": 28,
   "id": "350f4e5d",
   "metadata": {
    "scrolled": true
   },
   "outputs": [
    {
     "data": {
      "text/html": [
       "<div>\n",
       "<style scoped>\n",
       "    .dataframe tbody tr th:only-of-type {\n",
       "        vertical-align: middle;\n",
       "    }\n",
       "\n",
       "    .dataframe tbody tr th {\n",
       "        vertical-align: top;\n",
       "    }\n",
       "\n",
       "    .dataframe thead th {\n",
       "        text-align: right;\n",
       "    }\n",
       "</style>\n",
       "<table border=\"1\" class=\"dataframe\">\n",
       "  <thead>\n",
       "    <tr style=\"text-align: right;\">\n",
       "      <th></th>\n",
       "      <th>EmpNumber</th>\n",
       "      <th>Age</th>\n",
       "      <th>Gender</th>\n",
       "      <th>EducationBackground</th>\n",
       "      <th>MaritalStatus</th>\n",
       "      <th>EmpDepartment</th>\n",
       "      <th>EmpJobRole</th>\n",
       "      <th>BusinessTravelFrequency</th>\n",
       "      <th>DistanceFromHome</th>\n",
       "      <th>EmpEducationLevel</th>\n",
       "      <th>...</th>\n",
       "      <th>EmpRelationshipSatisfaction</th>\n",
       "      <th>TotalWorkExperienceInYears</th>\n",
       "      <th>TrainingTimesLastYear</th>\n",
       "      <th>EmpWorkLifeBalance</th>\n",
       "      <th>ExperienceYearsAtThisCompany</th>\n",
       "      <th>ExperienceYearsInCurrentRole</th>\n",
       "      <th>YearsSinceLastPromotion</th>\n",
       "      <th>YearsWithCurrManager</th>\n",
       "      <th>Attrition</th>\n",
       "      <th>PerformanceRating</th>\n",
       "    </tr>\n",
       "  </thead>\n",
       "  <tbody>\n",
       "    <tr>\n",
       "      <th>0</th>\n",
       "      <td>E1001000</td>\n",
       "      <td>32</td>\n",
       "      <td>1</td>\n",
       "      <td>3</td>\n",
       "      <td>1</td>\n",
       "      <td>5</td>\n",
       "      <td>18</td>\n",
       "      <td>2</td>\n",
       "      <td>10</td>\n",
       "      <td>3</td>\n",
       "      <td>...</td>\n",
       "      <td>4</td>\n",
       "      <td>10</td>\n",
       "      <td>2</td>\n",
       "      <td>2</td>\n",
       "      <td>10</td>\n",
       "      <td>7</td>\n",
       "      <td>0</td>\n",
       "      <td>8</td>\n",
       "      <td>1</td>\n",
       "      <td>3</td>\n",
       "    </tr>\n",
       "    <tr>\n",
       "      <th>1</th>\n",
       "      <td>E1001006</td>\n",
       "      <td>47</td>\n",
       "      <td>1</td>\n",
       "      <td>3</td>\n",
       "      <td>1</td>\n",
       "      <td>5</td>\n",
       "      <td>18</td>\n",
       "      <td>2</td>\n",
       "      <td>14</td>\n",
       "      <td>4</td>\n",
       "      <td>...</td>\n",
       "      <td>4</td>\n",
       "      <td>20</td>\n",
       "      <td>2</td>\n",
       "      <td>3</td>\n",
       "      <td>7</td>\n",
       "      <td>7</td>\n",
       "      <td>1</td>\n",
       "      <td>7</td>\n",
       "      <td>1</td>\n",
       "      <td>3</td>\n",
       "    </tr>\n",
       "    <tr>\n",
       "      <th>2</th>\n",
       "      <td>E1001007</td>\n",
       "      <td>40</td>\n",
       "      <td>1</td>\n",
       "      <td>5</td>\n",
       "      <td>2</td>\n",
       "      <td>5</td>\n",
       "      <td>18</td>\n",
       "      <td>1</td>\n",
       "      <td>5</td>\n",
       "      <td>4</td>\n",
       "      <td>...</td>\n",
       "      <td>3</td>\n",
       "      <td>20</td>\n",
       "      <td>2</td>\n",
       "      <td>3</td>\n",
       "      <td>18</td>\n",
       "      <td>13</td>\n",
       "      <td>1</td>\n",
       "      <td>12</td>\n",
       "      <td>1</td>\n",
       "      <td>4</td>\n",
       "    </tr>\n",
       "    <tr>\n",
       "      <th>3</th>\n",
       "      <td>E1001009</td>\n",
       "      <td>41</td>\n",
       "      <td>1</td>\n",
       "      <td>0</td>\n",
       "      <td>0</td>\n",
       "      <td>2</td>\n",
       "      <td>11</td>\n",
       "      <td>2</td>\n",
       "      <td>10</td>\n",
       "      <td>4</td>\n",
       "      <td>...</td>\n",
       "      <td>2</td>\n",
       "      <td>23</td>\n",
       "      <td>2</td>\n",
       "      <td>2</td>\n",
       "      <td>21</td>\n",
       "      <td>6</td>\n",
       "      <td>12</td>\n",
       "      <td>6</td>\n",
       "      <td>1</td>\n",
       "      <td>3</td>\n",
       "    </tr>\n",
       "    <tr>\n",
       "      <th>4</th>\n",
       "      <td>E1001010</td>\n",
       "      <td>60</td>\n",
       "      <td>1</td>\n",
       "      <td>3</td>\n",
       "      <td>1</td>\n",
       "      <td>5</td>\n",
       "      <td>18</td>\n",
       "      <td>2</td>\n",
       "      <td>16</td>\n",
       "      <td>4</td>\n",
       "      <td>...</td>\n",
       "      <td>4</td>\n",
       "      <td>10</td>\n",
       "      <td>1</td>\n",
       "      <td>3</td>\n",
       "      <td>2</td>\n",
       "      <td>2</td>\n",
       "      <td>2</td>\n",
       "      <td>2</td>\n",
       "      <td>1</td>\n",
       "      <td>3</td>\n",
       "    </tr>\n",
       "  </tbody>\n",
       "</table>\n",
       "<p>5 rows × 28 columns</p>\n",
       "</div>"
      ],
      "text/plain": [
       "  EmpNumber  Age  Gender EducationBackground  MaritalStatus EmpDepartment  \\\n",
       "0  E1001000   32       1                   3              1             5   \n",
       "1  E1001006   47       1                   3              1             5   \n",
       "2  E1001007   40       1                   5              2             5   \n",
       "3  E1001009   41       1                   0              0             2   \n",
       "4  E1001010   60       1                   3              1             5   \n",
       "\n",
       "  EmpJobRole  BusinessTravelFrequency  DistanceFromHome  EmpEducationLevel  \\\n",
       "0         18                        2                10                  3   \n",
       "1         18                        2                14                  4   \n",
       "2         18                        1                 5                  4   \n",
       "3         11                        2                10                  4   \n",
       "4         18                        2                16                  4   \n",
       "\n",
       "   ...  EmpRelationshipSatisfaction  TotalWorkExperienceInYears  \\\n",
       "0  ...                            4                          10   \n",
       "1  ...                            4                          20   \n",
       "2  ...                            3                          20   \n",
       "3  ...                            2                          23   \n",
       "4  ...                            4                          10   \n",
       "\n",
       "   TrainingTimesLastYear  EmpWorkLifeBalance  ExperienceYearsAtThisCompany  \\\n",
       "0                      2                   2                            10   \n",
       "1                      2                   3                             7   \n",
       "2                      2                   3                            18   \n",
       "3                      2                   2                            21   \n",
       "4                      1                   3                             2   \n",
       "\n",
       "   ExperienceYearsInCurrentRole  YearsSinceLastPromotion  \\\n",
       "0                             7                        0   \n",
       "1                             7                        1   \n",
       "2                            13                        1   \n",
       "3                             6                       12   \n",
       "4                             2                        2   \n",
       "\n",
       "   YearsWithCurrManager  Attrition  PerformanceRating  \n",
       "0                     8          1                  3  \n",
       "1                     7          1                  3  \n",
       "2                    12          1                  4  \n",
       "3                     6          1                  3  \n",
       "4                     2          1                  3  \n",
       "\n",
       "[5 rows x 28 columns]"
      ]
     },
     "execution_count": 28,
     "metadata": {},
     "output_type": "execute_result"
    }
   ],
   "source": [
    "# Check all data features \n",
    "data.head()"
   ]
  },
  {
   "cell_type": "markdown",
   "id": "54e3935a",
   "metadata": {},
   "source": [
    "### CHECK OUTLIERS AND IMPUTE OUTLIERS:\n",
    "\n",
    "**BoxPlot:** Box plots are used to show distributions of numeric data values as well as it helps to detect the outliers."
   ]
  },
  {
   "cell_type": "code",
   "execution_count": null,
   "id": "ea5b46ac",
   "metadata": {},
   "outputs": [],
   "source": [
    "out = data[['Age','DistanceFromHome','EmpHourlyRate','EmpLastSalaryHikePercent',\n",
    "                   'TotalWorkExperienceInYears','TrainingTimesLastYear','ExperienceYearsAtThisCompany',\n",
    "                   'ExperienceYearsInCurrentRole','YearsSinceLastPromotion','YearsWithCurrManager']]\n",
    "\n",
    "plt.figure(figsize=(20,18)) # defining canvas size\n",
    "plotno = 1 # counter\n",
    "\n",
    "for column in out: # iteration of columns / acessing the columns from count \n",
    "    if plotno<=12:    # set the limit\n",
    "        plt.subplot(4,3,plotno) # # plotting 7 graphs (3-rows,3-columns) ,plotnumber is for count\n",
    "        sns.boxplot(out[column]) # Plotting box plots to detect the outlier\n",
    "        plt.xlabel(column,fontsize=20)  # assigning name to x-axis and font size is 20\n",
    "    plotno+=1 # counter increment\n",
    "plt.tight_layout()\n",
    "plt.show() # used to hide the storage loction\n"
   ]
  },
  {
   "cell_type": "markdown",
   "id": "42f66078",
   "metadata": {},
   "source": [
    "* Here we are use inter quatile range to impute the outlier, becuase data is not normally distributed."
   ]
  },
  {
   "cell_type": "markdown",
   "id": "7cdc04a5",
   "metadata": {},
   "source": [
    "**IQR:**\n",
    "* IQR stand for the interquatile range, When a data set has outliers or extreme values, we summarize a typical value using the median as opposed to the mean. which is the difference between the first and third quartiles"
   ]
  },
  {
   "cell_type": "markdown",
   "id": "cc60f0ff",
   "metadata": {},
   "source": [
    "#### 1.Total Work Experiance in year"
   ]
  },
  {
   "cell_type": "code",
   "execution_count": null,
   "id": "6d4feb77",
   "metadata": {},
   "outputs": [],
   "source": [
    "# Use iqr range because some skewed in data\n",
    "iqr = stats.iqr(data['TotalWorkExperienceInYears'],interpolation='midpoint')\n",
    "print(\"IQR:\",iqr)\n",
    "\n",
    "# Getting first & third quantile\n",
    "Q1 = data['TotalWorkExperienceInYears'].quantile(0.25)\n",
    "Q3 = data['TotalWorkExperienceInYears'].quantile(0.75)\n",
    "\n",
    "# Get maximum and minimum limit\n",
    "min_limit = Q1 - 1.5*iqr\n",
    "print(\"Minimum limit:\",min_limit)\n",
    "\n",
    "max_limit = Q3 + 1.5*iqr\n",
    "print(\"Maximum Limit:\",max_limit)"
   ]
  },
  {
   "cell_type": "code",
   "execution_count": null,
   "id": "d5b23eb9",
   "metadata": {},
   "outputs": [],
   "source": [
    "# Impute outlier\n",
    "data.loc[data['TotalWorkExperienceInYears'] > max_limit,'TotalWorkExperienceInYears']=data['TotalWorkExperienceInYears'].median()"
   ]
  },
  {
   "cell_type": "code",
   "execution_count": null,
   "id": "a2634f7d",
   "metadata": {},
   "outputs": [],
   "source": [
    "# filtering data after imputation\n",
    "data.loc[data['TotalWorkExperienceInYears'] > max_limit]"
   ]
  },
  {
   "cell_type": "markdown",
   "id": "fc1fabd0",
   "metadata": {},
   "source": [
    "#### 2.Training Times Last Year"
   ]
  },
  {
   "cell_type": "code",
   "execution_count": null,
   "id": "e05ce7b3",
   "metadata": {},
   "outputs": [],
   "source": [
    "# Use iqr range because some skewed in data\n",
    "iqr = stats.iqr(data['TrainingTimesLastYear'],interpolation='midpoint')\n",
    "print(\"IQR:\",iqr)\n",
    "\n",
    "# Getting first & third quantile\n",
    "Q1 = data['TrainingTimesLastYear'].quantile(0.25)\n",
    "Q3 = data['TrainingTimesLastYear'].quantile(0.75)\n",
    "\n",
    "# Get maximum and minimum limit\n",
    "min_limit = Q1 - 1.5*iqr\n",
    "print(\"Minimum limit:\",min_limit)\n",
    "\n",
    "max_limit = Q3 + 1.5*iqr\n",
    "print(\"Maximum Limit:\",max_limit)"
   ]
  },
  {
   "cell_type": "code",
   "execution_count": null,
   "id": "3b0b4668",
   "metadata": {},
   "outputs": [],
   "source": [
    "# Impute outlier in max & minmum limit\n",
    "data.loc[data['TrainingTimesLastYear'] < min_limit,'TrainingTimesLastYear']=data['TrainingTimesLastYear'].median()\n",
    "data.loc[data['TrainingTimesLastYear'] > max_limit,'TrainingTimesLastYear']=data['TrainingTimesLastYear'].median()"
   ]
  },
  {
   "cell_type": "code",
   "execution_count": null,
   "id": "aa4749f2",
   "metadata": {},
   "outputs": [],
   "source": [
    "# Filtering the min limit\n",
    "data.loc[data['TrainingTimesLastYear'] < min_limit]"
   ]
  },
  {
   "cell_type": "code",
   "execution_count": null,
   "id": "0342265c",
   "metadata": {},
   "outputs": [],
   "source": [
    "# Filtering the max limit\n",
    "data.loc[data['TrainingTimesLastYear'] > max_limit]"
   ]
  },
  {
   "cell_type": "markdown",
   "id": "4ae0cac9",
   "metadata": {},
   "source": [
    "#### 3.Experience Years At This Company"
   ]
  },
  {
   "cell_type": "code",
   "execution_count": null,
   "id": "29dc2451",
   "metadata": {},
   "outputs": [],
   "source": [
    "# Use iqr range because some skewed in data\n",
    "iqr = stats.iqr(data['ExperienceYearsAtThisCompany'],interpolation='midpoint')\n",
    "print(\"IQR:\",iqr)\n",
    "\n",
    "# Getting first & third quantile\n",
    "Q1 = data['ExperienceYearsAtThisCompany'].quantile(0.25)\n",
    "Q3 = data['ExperienceYearsAtThisCompany'].quantile(0.75)\n",
    "\n",
    "# Get maximum and minimum limit\n",
    "min_limit = Q1 - 1.5*iqr\n",
    "print(\"Minimum limit:\",min_limit)\n",
    "\n",
    "max_limit = Q3 + 1.5*iqr\n",
    "print(\"Maximum Limit:\",max_limit)"
   ]
  },
  {
   "cell_type": "code",
   "execution_count": null,
   "id": "6e7e89af",
   "metadata": {},
   "outputs": [],
   "source": [
    "# Impute outlier\n",
    "data.loc[data['ExperienceYearsAtThisCompany'] > max_limit,'ExperienceYearsAtThisCompany']=data['ExperienceYearsAtThisCompany'].median()"
   ]
  },
  {
   "cell_type": "code",
   "execution_count": null,
   "id": "43a63aff",
   "metadata": {},
   "outputs": [],
   "source": [
    "# Filtering the data\n",
    "data.loc[data['ExperienceYearsAtThisCompany'] > max_limit]"
   ]
  },
  {
   "cell_type": "markdown",
   "id": "45e2a3e8",
   "metadata": {},
   "source": [
    "#### 4.Experience Years In Current Role"
   ]
  },
  {
   "cell_type": "code",
   "execution_count": null,
   "id": "c1b7a757",
   "metadata": {},
   "outputs": [],
   "source": [
    "# Use iqr range because some skewed in data\n",
    "iqr = stats.iqr(data['ExperienceYearsInCurrentRole'],interpolation='midpoint')\n",
    "print(\"IQR:\",iqr)\n",
    "\n",
    "# Getting first & third quantile\n",
    "Q1 = data['ExperienceYearsInCurrentRole'].quantile(0.25)\n",
    "Q3 = data['ExperienceYearsInCurrentRole'].quantile(0.75)\n",
    "\n",
    "# Get maximum and minimum limit\n",
    "min_limit = Q1 - 1.5*iqr\n",
    "print(\"Minimum limit:\",min_limit)\n",
    "\n",
    "max_limit = Q3 + 1.5*iqr\n",
    "print(\"Maximum Limit:\",max_limit)"
   ]
  },
  {
   "cell_type": "code",
   "execution_count": null,
   "id": "099983a1",
   "metadata": {},
   "outputs": [],
   "source": [
    "# Impute the outlier\n",
    "data.loc[data['ExperienceYearsInCurrentRole'] > max_limit,'ExperienceYearsInCurrentRole'] = data['ExperienceYearsInCurrentRole'].median()"
   ]
  },
  {
   "cell_type": "code",
   "execution_count": null,
   "id": "448795e3",
   "metadata": {},
   "outputs": [],
   "source": [
    "# Filtering the data\n",
    "data.loc[data['ExperienceYearsInCurrentRole'] > max_limit]"
   ]
  },
  {
   "cell_type": "markdown",
   "id": "b93a5cc9",
   "metadata": {},
   "source": [
    "#### 5.Years Since Last Promotion"
   ]
  },
  {
   "cell_type": "code",
   "execution_count": null,
   "id": "b33a902b",
   "metadata": {},
   "outputs": [],
   "source": [
    "# use iqr because some skewed in data\n",
    "iqr = stats.iqr(data['YearsSinceLastPromotion'],interpolation='midpoint')\n",
    "print(\"IQR:\",iqr)\n",
    "\n",
    "# Get first and third quantile\n",
    "Q1 = data['YearsSinceLastPromotion'].quantile(0.25)\n",
    "Q3 = data['YearsSinceLastPromotion'].quantile(0.75)\n",
    "\n",
    "# Get manimum and maximum limit\n",
    "min_limit = Q1 - 1.5*iqr\n",
    "print(\"Minimum limit:\",min_limit)\n",
    "\n",
    "max_limit = Q3 +1.5*iqr\n",
    "print(\"Maximum limit\",max_limit)"
   ]
  },
  {
   "cell_type": "code",
   "execution_count": null,
   "id": "84bcea11",
   "metadata": {},
   "outputs": [],
   "source": [
    "# impute outlier\n",
    "data.loc[data['YearsSinceLastPromotion'] > max_limit,'YearsSinceLastPromotion']=data['YearsSinceLastPromotion'].median()"
   ]
  },
  {
   "cell_type": "code",
   "execution_count": null,
   "id": "a74280fe",
   "metadata": {},
   "outputs": [],
   "source": [
    "# Filtering data\n",
    "data.loc[data['YearsSinceLastPromotion'] > max_limit]"
   ]
  },
  {
   "cell_type": "markdown",
   "id": "4e9ac922",
   "metadata": {},
   "source": [
    "#### 6.Years With Current Manager"
   ]
  },
  {
   "cell_type": "code",
   "execution_count": null,
   "id": "e735aad7",
   "metadata": {},
   "outputs": [],
   "source": [
    "# use iqr because some skewed in data\n",
    "iqr = stats.iqr(data['YearsWithCurrManager'],interpolation='midpoint')\n",
    "print(\"IQR:\",iqr)\n",
    "\n",
    "# Get first and third quantile\n",
    "Q1 = data['YearsWithCurrManager'].quantile(0.25)\n",
    "Q3 = data['YearsWithCurrManager'].quantile(0.75)\n",
    "\n",
    "# Get manimum and maximum limit\n",
    "min_limit = Q1 - 1.5*iqr\n",
    "print(\"Minimum limit:\",min_limit)\n",
    "\n",
    "max_limit = Q3 +1.5*iqr\n",
    "print(\"Maximum limit\",max_limit)"
   ]
  },
  {
   "cell_type": "code",
   "execution_count": null,
   "id": "48e982b1",
   "metadata": {},
   "outputs": [],
   "source": [
    "# impute outlier\n",
    "data.loc[data['YearsWithCurrManager'] > max_limit,'YearsWithCurrManager']=data['YearsWithCurrManager'].median()"
   ]
  },
  {
   "cell_type": "code",
   "execution_count": null,
   "id": "0aa02d79",
   "metadata": {},
   "outputs": [],
   "source": [
    "# Filtering the data\n",
    "data.loc[data['YearsWithCurrManager'] >max_limit]"
   ]
  },
  {
   "cell_type": "markdown",
   "id": "f5d6d3bf",
   "metadata": {},
   "source": [
    "#### CHECKING OUTLIER AFTER IMPUTATION"
   ]
  },
  {
   "cell_type": "code",
   "execution_count": null,
   "id": "7742ea81",
   "metadata": {},
   "outputs": [],
   "source": [
    "out = data[['TotalWorkExperienceInYears','TrainingTimesLastYear','ExperienceYearsAtThisCompany',\n",
    "            'ExperienceYearsInCurrentRole','YearsSinceLastPromotion','YearsWithCurrManager']]\n",
    "\n",
    "plt.figure(figsize=(20,10)) # defining canvas size\n",
    "plotno = 1 # counter\n",
    "\n",
    "for column in out: # iteration of columns / acessing the columns from count \n",
    "    if plotno<=7:    # set the limit\n",
    "        plt.subplot(2,3,plotno) # # plotting 7 graphs (3-rows,3-columns) ,plotnumber is for count\n",
    "        sns.boxplot(out[column]) # Plotting box plots to detect the outlier\n",
    "        plt.xlabel(column,fontsize=20)  # assigning name to x-axis and font size is 20\n",
    "    plotno+=1 # counter increment\n",
    "plt.tight_layout()\n",
    "plt.show() # used to hide the storage loction\n"
   ]
  },
  {
   "cell_type": "markdown",
   "id": "7f08a523",
   "metadata": {},
   "source": [
    "**Observation:**\n",
    "* Outlier impute sucessfully, but some feature box plot showing outlier, so we can not impute this outlier."
   ]
  },
  {
   "cell_type": "markdown",
   "id": "9fc5de3e",
   "metadata": {},
   "source": [
    "### FEATURE TRANSFORMATION"
   ]
  },
  {
   "cell_type": "markdown",
   "id": "62a8ec4e",
   "metadata": {},
   "source": [
    "* From the last EDA file we get the yearsince last promotion feature have some skewed in data, so we are going to use square root transformation."
   ]
  },
  {
   "cell_type": "markdown",
   "id": "0d002d58",
   "metadata": {},
   "source": [
    "**Q-Q Plot:**  Q–Q plot is a probability plot, a graphical method for comparing two probability distributions by plotting their quantiles against each other."
   ]
  },
  {
   "cell_type": "code",
   "execution_count": null,
   "id": "a1b54d58",
   "metadata": {},
   "outputs": [],
   "source": [
    "# define a function to plot a Q-Q plot\n",
    "def plot_data(data,feature):\n",
    "    plt.figure(figsize=(10,5))\n",
    "    plt.subplot(1,2,1)\n",
    "    data[feature].hist()\n",
    "    plt.subplot(1,2,2)\n",
    "    stats.probplot(data[feature],dist='norm',plot=pylab)\n",
    "    plt.show()"
   ]
  },
  {
   "cell_type": "code",
   "execution_count": null,
   "id": "a5399e67",
   "metadata": {},
   "outputs": [],
   "source": [
    "plot_data(data,'YearsSinceLastPromotion')"
   ]
  },
  {
   "cell_type": "markdown",
   "id": "7200010e",
   "metadata": {},
   "source": [
    "#### SQUARE ROOT TRANSFORMATION"
   ]
  },
  {
   "cell_type": "code",
   "execution_count": null,
   "id": "14f34830",
   "metadata": {},
   "outputs": [],
   "source": [
    "data['square_YearsSinceLastPromotion'] = data.YearsSinceLastPromotion**(1/2)"
   ]
  },
  {
   "cell_type": "code",
   "execution_count": null,
   "id": "3f1e43f6",
   "metadata": {},
   "outputs": [],
   "source": [
    "plot_data(data,'square_YearsSinceLastPromotion')"
   ]
  },
  {
   "cell_type": "markdown",
   "id": "c52447b3",
   "metadata": {},
   "source": [
    "* Now some points are close to the line."
   ]
  },
  {
   "cell_type": "markdown",
   "id": "61917122",
   "metadata": {},
   "source": [
    "### SCALING THE DATA"
   ]
  },
  {
   "cell_type": "markdown",
   "id": "aabdf753",
   "metadata": {},
   "source": [
    "**Standard Scaling:**\n",
    "Standardization is the process of scaling the feature, it assumes the feature follow  normal distribution and scale the feature between mean and standard deviation, here mean is 0 and standard deviation is always 1."
   ]
  },
  {
   "cell_type": "code",
   "execution_count": null,
   "id": "3dce0801",
   "metadata": {},
   "outputs": [],
   "source": [
    "from sklearn.preprocessing import StandardScaler\n",
    "\n",
    "scalar = StandardScaler()  #Create Object\n",
    "\n",
    "data[['Age','DistanceFromHome','EmpHourlyRate','EmpLastSalaryHikePercent','TotalWorkExperienceInYears',\n",
    "      'TrainingTimesLastYear','ExperienceYearsAtThisCompany','ExperienceYearsInCurrentRole','YearsWithCurrManager',\n",
    "      'square_YearsSinceLastPromotion']]=scalar.fit_transform(data[['Age','DistanceFromHome','EmpHourlyRate',\n",
    "      'EmpLastSalaryHikePercent','TotalWorkExperienceInYears','TrainingTimesLastYear','ExperienceYearsAtThisCompany',\n",
    "      'ExperienceYearsInCurrentRole','YearsWithCurrManager','square_YearsSinceLastPromotion']])"
   ]
  },
  {
   "cell_type": "code",
   "execution_count": null,
   "id": "71d2d332",
   "metadata": {},
   "outputs": [],
   "source": [
    "data.head()"
   ]
  },
  {
   "cell_type": "markdown",
   "id": "ca85865a",
   "metadata": {},
   "source": [
    "### FEATURE SELECTION"
   ]
  },
  {
   "cell_type": "markdown",
   "id": "e53dcf67",
   "metadata": {},
   "source": [
    "#### DROP UNIQUE AND CONTANT FEATURES"
   ]
  },
  {
   "cell_type": "code",
   "execution_count": null,
   "id": "080c8dad",
   "metadata": {},
   "outputs": [],
   "source": [
    "# Dropping employee number because this is a constant column as well as drop Years Since Last Promotion because we create a new feaure using square root tr\n",
    "data.drop(['EmpNumber','YearsSinceLastPromotion'],axis=1,inplace=True)"
   ]
  },
  {
   "cell_type": "markdown",
   "id": "b8e044a3",
   "metadata": {},
   "source": [
    "#### CHECKING CORELATION\n",
    "**Heatmap:** A heatmap is a graphical representation of data that uses a system of color-coding to represent different values."
   ]
  },
  {
   "cell_type": "code",
   "execution_count": null,
   "id": "d1466a99",
   "metadata": {},
   "outputs": [],
   "source": [
    "plt.figure(figsize=(20,20))\n",
    "sns.heatmap(data.corr(),annot=True,cmap='BuPu')\n",
    "plt.show()"
   ]
  },
  {
   "cell_type": "markdown",
   "id": "160c7295",
   "metadata": {},
   "source": [
    "* From above heatmap scale we are clearly seen the their is no highly correlated feature in data\n",
    "* But we confirm with the help of simple code"
   ]
  },
  {
   "cell_type": "code",
   "execution_count": null,
   "id": "8565dc84",
   "metadata": {},
   "outputs": [],
   "source": [
    "# To get highly corelated feature \n",
    "pd.set_option('display.max_rows',None)\n",
    "corrmat = data.corr()\n",
    "corrmat = corrmat.abs().unstack()\n",
    "corrmat = corrmat.sort_values(ascending=False)\n",
    "corrmat = corrmat [corrmat >= 0.9] # Set threshold 0.9\n",
    "corrmat = corrmat [corrmat < 1]\n",
    "corrmat = pd.DataFrame(corrmat).reset_index()\n",
    "corrmat.columns = ['feature1','feature2','corr']\n",
    "corrmat"
   ]
  },
  {
   "cell_type": "markdown",
   "id": "7dbfd6f8",
   "metadata": {},
   "source": [
    "* Now we confirm their is no highly correlated feature is present."
   ]
  },
  {
   "cell_type": "markdown",
   "id": "cd5420b6",
   "metadata": {},
   "source": [
    "#### CHECKING DUPLICATES"
   ]
  },
  {
   "cell_type": "code",
   "execution_count": null,
   "id": "dae08457",
   "metadata": {},
   "outputs": [],
   "source": [
    "data.duplicated().sum()"
   ]
  },
  {
   "cell_type": "markdown",
   "id": "1a8734c5",
   "metadata": {},
   "source": [
    "* Their is no Duplicates is present in data."
   ]
  },
  {
   "cell_type": "markdown",
   "id": "df3b9410",
   "metadata": {},
   "source": [
    "#### PRINCIPLE COMPONENT ANALYSIS"
   ]
  },
  {
   "cell_type": "markdown",
   "id": "044e6c11",
   "metadata": {},
   "source": [
    "* Principal component analysis (PCA) is a popular technique for analyzing large datasets containing a high number of dimensions/features per observation, increasing the interpretability of data while preserving the maximum amount of information, and enabling the visualization of multidimensional data. Formally, PCA is a statistical technique for reducing the dimensionality of a dataset."
   ]
  },
  {
   "cell_type": "markdown",
   "id": "c0b937a8",
   "metadata": {},
   "source": [
    "**Used For:** The dataset contain more than 25 feature, removes the noise in the data and keeps only the most important features in the dataset. That will mitigate the overfitting of the data and increase the model's performance."
   ]
  },
  {
   "cell_type": "code",
   "execution_count": null,
   "id": "76f94782",
   "metadata": {},
   "outputs": [],
   "source": [
    "# Getting the optimal value of PCA\n",
    "from sklearn.decomposition import PCA\n",
    "\n",
    "# Object creation\n",
    "pca = PCA()\n",
    "\n",
    "principlecomponent = pca.fit_transform(data)\n",
    "plt.figure(figsize=(10,7))\n",
    "sns.set_style('darkgrid')\n",
    "plt.plot(np.cumsum(pca.explained_variance_ratio_),color='k')\n",
    "plt.xlabel('Number of components',fontsize=20)\n",
    "plt.ylabel('Variance(%)',fontsize=20) # for each componant\n",
    "plt.title('Explained Variance',fontsize=20)\n",
    "plt.show()"
   ]
  },
  {
   "cell_type": "markdown",
   "id": "69d4ea2b",
   "metadata": {},
   "source": [
    "**Observation:** Data is contain total 27 feature after dropping unique and constant column,from above PCA it shows the 25 feature has less varaince loss, so we are going to select 25 feature."
   ]
  },
  {
   "cell_type": "code",
   "execution_count": null,
   "id": "e6c799a9",
   "metadata": {},
   "outputs": [],
   "source": [
    "# Selecting the components\n",
    "pca = PCA(n_components=25)\n",
    "new_data = pca.fit_transform(data)\n",
    "new_data"
   ]
  },
  {
   "cell_type": "markdown",
   "id": "7643e95a",
   "metadata": {},
   "source": [
    "#### CREATE NEW DATAFRAME"
   ]
  },
  {
   "cell_type": "code",
   "execution_count": null,
   "id": "afbd57d2",
   "metadata": {},
   "outputs": [],
   "source": [
    "principle_df = pd.DataFrame(data=new_data,columns=['pca1','pca2','pca3','pca4','pca5','pca6','pca7','pca8','pca9','pca10',\n",
    "                            'pca11','pca12','pca13','pca14','pca15','pca16','pca17','pca18','pca19','pca20','pca21','pca22',\n",
    "                            'pca23','pca24','pca25'])\n",
    "\n",
    "# Add target veriable to preprocess dataframe for model building & evaluation\n",
    "principle_df['PerformanceRating']=data.PerformanceRating\n",
    "\n",
    "principle_df.head()"
   ]
  },
  {
   "cell_type": "markdown",
   "id": "c4d1f888",
   "metadata": {},
   "source": [
    "### SAVE PRE-PROCESS DATA"
   ]
  },
  {
   "cell_type": "code",
   "execution_count": null,
   "id": "e9ca5fed",
   "metadata": {},
   "outputs": [],
   "source": [
    "principle_df.to_csv('employee_performance_analysis_preprocessed_data.csv')\n",
    "\n",
    "# Reading new preprocess csv file\n",
    "df = pd.read_csv('employee_performance_analysis_preprocessed_data.csv')\n",
    "\n",
    "# Get first five rows \n",
    "df.head()"
   ]
  },
  {
   "cell_type": "code",
   "execution_count": null,
   "id": "1d5cfa56",
   "metadata": {},
   "outputs": [],
   "source": []
  }
 ],
 "metadata": {
  "kernelspec": {
   "display_name": "Python 3",
   "language": "python",
   "name": "python3"
  },
  "language_info": {
   "codemirror_mode": {
    "name": "ipython",
    "version": 3
   },
   "file_extension": ".py",
   "mimetype": "text/x-python",
   "name": "python",
   "nbconvert_exporter": "python",
   "pygments_lexer": "ipython3",
   "version": "3.9.5"
  }
 },
 "nbformat": 4,
 "nbformat_minor": 5
}
